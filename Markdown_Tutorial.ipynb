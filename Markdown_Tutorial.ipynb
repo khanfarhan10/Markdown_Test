{
    "cells": [
        {
            "cell_type": "markdown",
            "metadata": {
                "collapsed": true
            },
            "source": "# My Jupyter Notebook on IBM Watson Studio"
        },
        {
            "cell_type": "markdown",
            "metadata": {},
            "source": "**Farhan Hai Khan**<br>\nData Science Engineer, Senior Machine Learning Engineer, IBM R&D Cell"
        },
        {
            "cell_type": "markdown",
            "metadata": {},
            "source": "*I am interested in data science because data is the fuel of the future.*"
        },
        {
            "cell_type": "markdown",
            "metadata": {},
            "source": "### The below code acts as a mini calculator project in python"
        },
        {
            "cell_type": "code",
            "execution_count": 2,
            "metadata": {},
            "outputs": [
                {
                    "name": "stdout",
                    "output_type": "stream",
                    "text": "Enter the function(in terms of x) : pow(x,3)\nEnter the value of x : 4\ny = 64\n"
                }
            ],
            "source": "from math import *\n\ndef function_creator(): \n    # expression to be evaluated \n    expr = input(\"Enter the function(in terms of x) : \") \n    \n    # variable used in expression \n    x = int(input(\"Enter the value of x : \")) \n    \n    # evaluating expression \n    y = eval(expr) \n\n    # printing evaluated result \n    print(\"y = {}\".format(y)) \n\nfunction_creator()"
        },
        {
            "cell_type": "code",
            "execution_count": 4,
            "metadata": {},
            "outputs": [
                {
                    "name": "stdout",
                    "output_type": "stream",
                    "text": "Enter the simple expression : 2*4+3-9%3*(2+8)\ny = 11\n"
                }
            ],
            "source": "def simple_calc(): \n    # expression to be evaluated \n    expr = input(\"Enter the simple expression : \") \n    \n    # evaluating expression \n    y = eval(expr) \n\n    # printing evaluated result \n    print(\"y = {}\".format(y)) \n\nsimple_calc()"
        },
        {
            "cell_type": "markdown",
            "metadata": {},
            "source": "Tasks: horizontal rule, bulleted list, numbered list, tables, hyperlinks, images, code/syntax highlighting, blocked quotes, strikethrough.<br>\n\n* * *\n\nData Science Programming Languages - Bulleted Nested List\n+ Present\n    - R\n    - Python\n+ Future\n    - Julia\n    - Scala\nData Science Programming Languages - Numbered Nested List\n1. Present\n    1. R\n    2. Python\n        1. Interpreted Language\n        2. Best for me\n        3. Easy to Learn\n2. Future\n\n    1. Scala\n        1. Consider Learning\n        2. Very Fast\n    2. Julia\n<br>\n\nData Science Programming Languages-Table\n\n| Present | Future |\n|---------|--------|\n| R       | Julia  |\n| Python  | Scala  |\n\n* * *\n\n\n\n```ruby\nrequire 'redcarpet'\nmarkdown = Redcarpet.new(\"Hello World!\")\nputs markdown.to_html\n```\n```python\nprint(\"Hello friend\")\n# more python code\n```\n\t\n> Data Science is fun.\n> > This is a markdown demo!\n\n~some strikethrough'ed text~\n\nDo check out my github pages website : [khanfarhan10 on github](http://khanfarhan10.github.io/ \"khanfarhan10's official github page\")."
        },
        {
            "cell_type": "markdown",
            "metadata": {},
            "source": "Table showing the cells merged\n<table border=\"1\" align=\"left\">\n    <thead>\n        <tr>\n            <th>Layer 1</th>\n            <th>Layer 2</th>\n            <th>Layer 3</th>\n        </tr>\n    </thead>\n    <tbody>\n        <tr>\n            <td rowspan=4>L1 Name</td>\n            <td rowspan=2>L2 Name A</td>\n            <td>L3 Name A</td>\n        </tr>\n        <tr>\n            <td>L3 Name B</td>\n        </tr>\n        <tr>\n            <td rowspan=2>L2 Name B</td>\n            <td>L3 Name C</td>\n        </tr>\n        <tr>\n            <td>L3 Name D</td>\n        </tr>\n    </tbody>\n</table>"
        },
        {
            "cell_type": "code",
            "execution_count": null,
            "metadata": {},
            "outputs": [],
            "source": "# @hidden\n\n#!wget https://github.com/khanfarhan10/khanfarhan10.github.io/blob/master/images/bio-photo.jpg\n!wget https://github.com/khanfarhan10/khanfarhan10.github.io/blob/master/images/TeamFKlogo.png\nimport os\ndir=os.getcwd()\nprint(dir)\nos.listdir(dir)\n\n%matplotlib inline\nimport matplotlib.pyplot as plt\nimport matplotlib.image as mpimg\nimg=mpimg.imread('/home/dsxuser/work/TeamFKlogo.png',0)\nimgplot = plt.imshow(img)\nplt.show()\n\n\n\n\n![THIS IS ME](https://github.com/khanfarhan10/khanfarhan10.github.io/blob/master/images/bio-photo.jpg \"khanfarhan10\")\n\n<img src=\"https://github.com/khanfarhan10/khanfarhan10.github.io/blob/master/images/bio-photo.jpg\"\n     alt=\"Markdown Monster icon\"\n     style=\"float: left; margin-right: 10px;\" />"
        }
    ],
    "metadata": {
        "kernelspec": {
            "display_name": "Python 3.6",
            "language": "python",
            "name": "python3"
        },
        "language_info": {
            "codemirror_mode": {
                "name": "ipython",
                "version": 3
            },
            "file_extension": ".py",
            "mimetype": "text/x-python",
            "name": "python",
            "nbconvert_exporter": "python",
            "pygments_lexer": "ipython3",
            "version": "3.6.9"
        }
    },
    "nbformat": 4,
    "nbformat_minor": 1
}